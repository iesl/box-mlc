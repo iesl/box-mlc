{
 "cells": [
  {
   "cell_type": "code",
   "execution_count": 27,
   "metadata": {},
   "outputs": [],
   "source": [
    "import pandas as pd\n",
    "import numpy as np\n",
    "from scipy import stats\n",
    "import Orange\n",
    "import matplotlib.pyplot as plt\n",
    "#https://github.com/EGiunchiglia/C-HMCNN/blob/master/friedman_test.py"
   ]
  },
  {
   "cell_type": "code",
   "execution_count": 127,
   "metadata": {},
   "outputs": [],
   "source": [
    "results_excel_path = './results.xls'\n",
    "sheet_names = ['MAP', 'CV', 'C-MAP']\n",
    "sheet_idx = 1\n",
    "multiplication_factor = 1 #-1 for rank 1-6 decreasing order"
   ]
  },
  {
   "cell_type": "code",
   "execution_count": 128,
   "metadata": {},
   "outputs": [],
   "source": [
    "data = pd.read_excel(results_excel_path, sheet_name=sheet_names[sheet_idx])"
   ]
  },
  {
   "cell_type": "code",
   "execution_count": 129,
   "metadata": {},
   "outputs": [
    {
     "data": {
      "text/html": [
       "<div>\n",
       "<style scoped>\n",
       "    .dataframe tbody tr th:only-of-type {\n",
       "        vertical-align: middle;\n",
       "    }\n",
       "\n",
       "    .dataframe tbody tr th {\n",
       "        vertical-align: top;\n",
       "    }\n",
       "\n",
       "    .dataframe thead th {\n",
       "        text-align: right;\n",
       "    }\n",
       "</style>\n",
       "<table border=\"1\" class=\"dataframe\">\n",
       "  <thead>\n",
       "    <tr style=\"text-align: right;\">\n",
       "      <th></th>\n",
       "      <th>Datasets</th>\n",
       "      <th>MVM</th>\n",
       "      <th>MHM</th>\n",
       "      <th>MBM</th>\n",
       "      <th>MHM-T</th>\n",
       "      <th>MBM-T</th>\n",
       "      <th>C-HMCNN</th>\n",
       "    </tr>\n",
       "  </thead>\n",
       "  <tbody>\n",
       "    <tr>\n",
       "      <th>0</th>\n",
       "      <td>Expr_fun</td>\n",
       "      <td>2.75</td>\n",
       "      <td>0.72</td>\n",
       "      <td>2.21</td>\n",
       "      <td>1.61</td>\n",
       "      <td>1.52</td>\n",
       "      <td>0</td>\n",
       "    </tr>\n",
       "    <tr>\n",
       "      <th>1</th>\n",
       "      <td>Cellcycle_fun</td>\n",
       "      <td>1.73</td>\n",
       "      <td>0.79</td>\n",
       "      <td>1.57</td>\n",
       "      <td>0.96</td>\n",
       "      <td>0.40</td>\n",
       "      <td>0</td>\n",
       "    </tr>\n",
       "    <tr>\n",
       "      <th>2</th>\n",
       "      <td>Derisi_fun</td>\n",
       "      <td>2.01</td>\n",
       "      <td>0.77</td>\n",
       "      <td>1.34</td>\n",
       "      <td>1.23</td>\n",
       "      <td>0.05</td>\n",
       "      <td>0</td>\n",
       "    </tr>\n",
       "    <tr>\n",
       "      <th>3</th>\n",
       "      <td>spo_fun</td>\n",
       "      <td>1.42</td>\n",
       "      <td>0.86</td>\n",
       "      <td>1.53</td>\n",
       "      <td>2.68</td>\n",
       "      <td>1.21</td>\n",
       "      <td>0</td>\n",
       "    </tr>\n",
       "    <tr>\n",
       "      <th>4</th>\n",
       "      <td>enron</td>\n",
       "      <td>0.79</td>\n",
       "      <td>0.35</td>\n",
       "      <td>0.12</td>\n",
       "      <td>0.48</td>\n",
       "      <td>0.04</td>\n",
       "      <td>0</td>\n",
       "    </tr>\n",
       "    <tr>\n",
       "      <th>5</th>\n",
       "      <td>Diatoms</td>\n",
       "      <td>7.23</td>\n",
       "      <td>2.03</td>\n",
       "      <td>3.48</td>\n",
       "      <td>1.93</td>\n",
       "      <td>0.19</td>\n",
       "      <td>0</td>\n",
       "    </tr>\n",
       "    <tr>\n",
       "      <th>6</th>\n",
       "      <td>Imclef07a</td>\n",
       "      <td>2.98</td>\n",
       "      <td>2.27</td>\n",
       "      <td>2.92</td>\n",
       "      <td>2.49</td>\n",
       "      <td>2.83</td>\n",
       "      <td>0</td>\n",
       "    </tr>\n",
       "  </tbody>\n",
       "</table>\n",
       "</div>"
      ],
      "text/plain": [
       "        Datasets   MVM   MHM   MBM  MHM-T  MBM-T  C-HMCNN\n",
       "0       Expr_fun  2.75  0.72  2.21   1.61   1.52        0\n",
       "1  Cellcycle_fun  1.73  0.79  1.57   0.96   0.40        0\n",
       "2     Derisi_fun  2.01  0.77  1.34   1.23   0.05        0\n",
       "3        spo_fun  1.42  0.86  1.53   2.68   1.21        0\n",
       "4          enron  0.79  0.35  0.12   0.48   0.04        0\n",
       "5        Diatoms  7.23  2.03  3.48   1.93   0.19        0\n",
       "6      Imclef07a  2.98  2.27  2.92   2.49   2.83        0"
      ]
     },
     "execution_count": 129,
     "metadata": {},
     "output_type": "execute_result"
    }
   ],
   "source": [
    "data"
   ]
  },
  {
   "cell_type": "code",
   "execution_count": 130,
   "metadata": {},
   "outputs": [
    {
     "data": {
      "text/plain": [
       "['MVM', 'MHM', 'MBM', 'MHM-T', 'MBM-T', 'C-HMCNN']"
      ]
     },
     "execution_count": 130,
     "metadata": {},
     "output_type": "execute_result"
    }
   ],
   "source": [
    "model_names = data.columns[1:].to_list()\n",
    "model_names"
   ]
  },
  {
   "cell_type": "code",
   "execution_count": 131,
   "metadata": {},
   "outputs": [
    {
     "data": {
      "text/plain": [
       "array([[2.75, 1.73, 2.01, 1.42, 0.79, 7.23, 2.98],\n",
       "       [0.72, 0.79, 0.77, 0.86, 0.35, 2.03, 2.27],\n",
       "       [2.21, 1.57, 1.34, 1.53, 0.12, 3.48, 2.92],\n",
       "       [1.61, 0.96, 1.23, 2.68, 0.48, 1.93, 2.49],\n",
       "       [1.52, 0.4 , 0.05, 1.21, 0.04, 0.19, 2.83],\n",
       "       [0.  , 0.  , 0.  , 0.  , 0.  , 0.  , 0.  ]])"
      ]
     },
     "execution_count": 131,
     "metadata": {},
     "output_type": "execute_result"
    }
   ],
   "source": [
    "measurements = (data[data.columns[1:]].to_numpy().T)*multiplication_factor\n",
    "measurements"
   ]
  },
  {
   "cell_type": "code",
   "execution_count": 132,
   "metadata": {},
   "outputs": [
    {
     "data": {
      "text/plain": [
       "array([[6., 6., 6., 4., 6., 6., 6.],\n",
       "       [2., 3., 3., 2., 4., 4., 2.],\n",
       "       [5., 5., 5., 5., 3., 5., 5.],\n",
       "       [4., 4., 4., 6., 5., 3., 3.],\n",
       "       [3., 2., 2., 3., 2., 2., 4.],\n",
       "       [1., 1., 1., 1., 1., 1., 1.]])"
      ]
     },
     "execution_count": 132,
     "metadata": {},
     "output_type": "execute_result"
    }
   ],
   "source": [
    "rank_data = stats.rankdata(measurements, axis=0)\n",
    "rank_data"
   ]
  },
  {
   "cell_type": "code",
   "execution_count": 133,
   "metadata": {},
   "outputs": [
    {
     "data": {
      "text/plain": [
       "array([5.71428571, 2.85714286, 4.71428571, 4.14285714, 2.57142857,\n",
       "       1.        ])"
      ]
     },
     "execution_count": 133,
     "metadata": {},
     "output_type": "execute_result"
    }
   ],
   "source": [
    "avranks =  np.mean(rank_data, axis=1)\n",
    "avranks"
   ]
  },
  {
   "cell_type": "code",
   "execution_count": 134,
   "metadata": {},
   "outputs": [
    {
     "name": "stdout",
     "output_type": "stream",
     "text": [
      "[6.0, 6.0, 6.0, 4.0, 6.0, 6.0, 6.0] [2.0, 3.0, 3.0, 2.0, 4.0, 4.0, 2.0] [5.0, 5.0, 5.0, 5.0, 3.0, 5.0, 5.0] [4.0, 4.0, 4.0, 6.0, 5.0, 3.0, 3.0] [3.0, 2.0, 2.0, 3.0, 2.0, 2.0, 4.0] [1.0, 1.0, 1.0, 1.0, 1.0, 1.0, 1.0]\n"
     ]
    }
   ],
   "source": [
    "array_ranks = [list(rank_data[i, :]) for i in range(rank_data.shape[0])]\n",
    "\n",
    "print(*array_ranks)"
   ]
  },
  {
   "cell_type": "code",
   "execution_count": 135,
   "metadata": {},
   "outputs": [
    {
     "data": {
      "text/plain": [
       "FriedmanchisquareResult(statistic=28.632653061224488, pvalue=2.7369959295456058e-05)"
      ]
     },
     "execution_count": 135,
     "metadata": {},
     "output_type": "execute_result"
    }
   ],
   "source": [
    "stats.friedmanchisquare(*array_ranks)"
   ]
  },
  {
   "cell_type": "code",
   "execution_count": 136,
   "metadata": {},
   "outputs": [
    {
     "name": "stdout",
     "output_type": "stream",
     "text": [
      "1.6859082138297892\n"
     ]
    },
    {
     "data": {
      "image/png": "[encoded data removed]",
      "text/plain": [
       "<Figure size 432x140.4 with 1 Axes>"
      ]
     },
     "metadata": {},
     "output_type": "display_data"
    }
   ],
   "source": [
    "cd = Orange.evaluation.compute_CD(avranks, 20)\n",
    "print(cd)\n",
    "Orange.evaluation.graph_ranks(avranks, model_names, cd=cd, width=6, textspace=1.5)\n",
    "plt.title(f\"Based on {sheet_names[sheet_idx]} results across datasets\")\n",
    "plt.savefig(f\"nemenyi_{sheet_names[sheet_idx]}.png\", format='png')"
   ]
  },
  {
   "cell_type": "code",
   "execution_count": 137,
   "metadata": {},
   "outputs": [
    {
     "data": {
      "text/html": [
       "<div>\n",
       "<style scoped>\n",
       "    .dataframe tbody tr th:only-of-type {\n",
       "        vertical-align: middle;\n",
       "    }\n",
       "\n",
       "    .dataframe tbody tr th {\n",
       "        vertical-align: top;\n",
       "    }\n",
       "\n",
       "    .dataframe thead th {\n",
       "        text-align: right;\n",
       "    }\n",
       "</style>\n",
       "<table border=\"1\" class=\"dataframe\">\n",
       "  <thead>\n",
       "    <tr style=\"text-align: right;\">\n",
       "      <th></th>\n",
       "      <th>Datasets</th>\n",
       "      <th>MVM</th>\n",
       "      <th>MHM</th>\n",
       "      <th>MBM</th>\n",
       "      <th>MHM-T</th>\n",
       "      <th>MBM-T</th>\n",
       "      <th>C-HMCNN</th>\n",
       "    </tr>\n",
       "  </thead>\n",
       "  <tbody>\n",
       "    <tr>\n",
       "      <th>0</th>\n",
       "      <td>Expr_fun</td>\n",
       "      <td>2.75</td>\n",
       "      <td>0.72</td>\n",
       "      <td>2.21</td>\n",
       "      <td>1.61</td>\n",
       "      <td>1.52</td>\n",
       "      <td>0</td>\n",
       "    </tr>\n",
       "    <tr>\n",
       "      <th>1</th>\n",
       "      <td>Cellcycle_fun</td>\n",
       "      <td>1.73</td>\n",
       "      <td>0.79</td>\n",
       "      <td>1.57</td>\n",
       "      <td>0.96</td>\n",
       "      <td>0.40</td>\n",
       "      <td>0</td>\n",
       "    </tr>\n",
       "    <tr>\n",
       "      <th>2</th>\n",
       "      <td>Derisi_fun</td>\n",
       "      <td>2.01</td>\n",
       "      <td>0.77</td>\n",
       "      <td>1.34</td>\n",
       "      <td>1.23</td>\n",
       "      <td>0.05</td>\n",
       "      <td>0</td>\n",
       "    </tr>\n",
       "    <tr>\n",
       "      <th>3</th>\n",
       "      <td>spo_fun</td>\n",
       "      <td>1.42</td>\n",
       "      <td>0.86</td>\n",
       "      <td>1.53</td>\n",
       "      <td>2.68</td>\n",
       "      <td>1.21</td>\n",
       "      <td>0</td>\n",
       "    </tr>\n",
       "    <tr>\n",
       "      <th>4</th>\n",
       "      <td>enron</td>\n",
       "      <td>0.79</td>\n",
       "      <td>0.35</td>\n",
       "      <td>0.12</td>\n",
       "      <td>0.48</td>\n",
       "      <td>0.04</td>\n",
       "      <td>0</td>\n",
       "    </tr>\n",
       "    <tr>\n",
       "      <th>5</th>\n",
       "      <td>Diatoms</td>\n",
       "      <td>7.23</td>\n",
       "      <td>2.03</td>\n",
       "      <td>3.48</td>\n",
       "      <td>1.93</td>\n",
       "      <td>0.19</td>\n",
       "      <td>0</td>\n",
       "    </tr>\n",
       "    <tr>\n",
       "      <th>6</th>\n",
       "      <td>Imclef07a</td>\n",
       "      <td>2.98</td>\n",
       "      <td>2.27</td>\n",
       "      <td>2.92</td>\n",
       "      <td>2.49</td>\n",
       "      <td>2.83</td>\n",
       "      <td>0</td>\n",
       "    </tr>\n",
       "  </tbody>\n",
       "</table>\n",
       "</div>"
      ],
      "text/plain": [
       "        Datasets   MVM   MHM   MBM  MHM-T  MBM-T  C-HMCNN\n",
       "0       Expr_fun  2.75  0.72  2.21   1.61   1.52        0\n",
       "1  Cellcycle_fun  1.73  0.79  1.57   0.96   0.40        0\n",
       "2     Derisi_fun  2.01  0.77  1.34   1.23   0.05        0\n",
       "3        spo_fun  1.42  0.86  1.53   2.68   1.21        0\n",
       "4          enron  0.79  0.35  0.12   0.48   0.04        0\n",
       "5        Diatoms  7.23  2.03  3.48   1.93   0.19        0\n",
       "6      Imclef07a  2.98  2.27  2.92   2.49   2.83        0"
      ]
     },
     "execution_count": 137,
     "metadata": {},
     "output_type": "execute_result"
    }
   ],
   "source": [
    "data"
   ]
  },
  {
   "cell_type": "code",
   "execution_count": 143,
   "metadata": {},
   "outputs": [
    {
     "data": {
      "text/plain": [
       "WilcoxonResult(statistic=0.0, pvalue=0.015625)"
      ]
     },
     "execution_count": 143,
     "metadata": {},
     "output_type": "execute_result"
    }
   ],
   "source": [
    "stats.wilcoxon(data['C-HMCNN'].to_list(), data['MBM-T'].to_list())"
   ]
  },
  {
   "cell_type": "code",
   "execution_count": null,
   "metadata": {},
   "outputs": [],
   "source": []
  }
 ],
 "metadata": {
  "kernelspec": {
   "display_name": "Python 3",
   "language": "python",
   "name": "python3"
  },
  "language_info": {
   "codemirror_mode": {
    "name": "ipython",
    "version": 3
   },
   "file_extension": ".py",
   "mimetype": "text/x-python",
   "name": "python",
   "nbconvert_exporter": "python",
   "pygments_lexer": "ipython3",
   "version": "3.8.5"
  }
 },
 "nbformat": 4,
 "nbformat_minor": 4
}
