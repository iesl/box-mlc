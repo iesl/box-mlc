{
 "cells": [
  {
   "cell_type": "code",
   "execution_count": 1,
   "metadata": {},
   "outputs": [],
   "source": [
    "\"\"\"Script to compute label-label cooccurances\"\"\"\n",
    "import argparse\n",
    "\n",
    "try:\n",
    "    from .utils import isnotebook\n",
    "except ImportError:\n",
    "    from utils import isnotebook\n",
    "from pathlib import Path\n",
    "import json\n",
    "import sys\n",
    "sys.path.append('../')\n",
    "from multilabel_learning.dataset_readers.common import JSONTransform\n",
    "from multilabel_learning.dataset_readers.utils import smart_read\n",
    "from allennlp.common.params import Params\n",
    "import itertools\n",
    "import numpy as np\n",
    "import pandas as pd\n",
    "from fractions import Fraction"
   ]
  },
  {
   "cell_type": "code",
   "execution_count": 2,
   "metadata": {},
   "outputs": [],
   "source": [
    "def get_args() -> argparse.Namespace:\n",
    "    parser = argparse.ArgumentParser(\n",
    "        description=\"Compute cooccurance score for a dataset\"\n",
    "    )\n",
    "    parser.add_argument(\"-i\", \"--input-file\", type=Path)\n",
    "    parser.add_argument(\n",
    "        \"-o\", \"--output-file\", type=Path, default=Path(\"cooccurrences.csv\")\n",
    "    )\n",
    "    parser.add_argument(\n",
    "        \"-l\",\n",
    "        \"--label-field-name\",\n",
    "        default=\"labels\",\n",
    "        help=\"name of the field in (transformed) json that contains labels as list\",\n",
    "    )\n",
    "    parser.add_argument(\n",
    "        \"-t\",\n",
    "        \"--json-transform\",\n",
    "        type=(lambda x: JSONTransform.from_params(Params({'type': x}))),\n",
    "        default=JSONTransform.from_params(Params(dict(type=\"identity\"))),\n",
    "        help='Registered child of \"dataset_readers.common.JSONTransform\"',\n",
    "    )\n",
    "    if isnotebook():\n",
    "        import shlex  # noqa\n",
    "\n",
    "        args_str = (\n",
    "            \"-i ../.data/blurb_genre_collection/sample_train.json -o \"\n",
    "            \"../.data/blurb_genre_collection/sample_train_cooccurrences.csv \"\n",
    "            \"-t from-blurb-genre\"\n",
    "        )\n",
    "        args = parser.parse_args(shlex.split(args_str))\n",
    "    else:\n",
    "        args = parser.parse_args()\n",
    "    return args"
   ]
  },
  {
   "cell_type": "code",
   "execution_count": 3,
   "metadata": {},
   "outputs": [],
   "source": [
    "if __name__==\"__main__\":\n",
    "    args = get_args()\n",
    "    label_sets = [args.json_transform(ex)[args.label_field_name] for ex in smart_read(args.input_file)]\n",
    "    num_examples = len(label_sets)\n",
    "    all_labels = set([l for s in label_sets for l in s])\n",
    "    all_pairs = list(itertools.product(all_labels,repeat=2))\n",
    "    label_df = pd.DataFrame(Fraction(0.0),columns=all_labels, index=all_labels)\n",
    "    # count co-occurances\n",
    "    for label_set in label_sets:\n",
    "        for a,b in itertools.product(label_set,repeat=2):\n",
    "            label_df[a][b]+=1\n",
    "    # get pair-wise conditional probabilities\n",
    "    for a,b in all_pairs:\n",
    "        if a!=b:\n",
    "            label_df[a][b]/=label_df[b][b]\n",
    "    for l in all_labels:\n",
    "        label_df[l][l]/=num_examples\n",
    "\n",
    "    label_df.to_csv(args.output_file, index_label='labels')"
   ]
  }
 ],
 "metadata": {
  "kernelspec": {
   "display_name": "Python 3",
   "language": "python",
   "name": "python3"
  },
  "language_info": {
   "codemirror_mode": {
    "name": "ipython",
    "version": 3
   },
   "file_extension": ".py",
   "mimetype": "text/x-python",
   "name": "python",
   "nbconvert_exporter": "python",
   "pygments_lexer": "ipython3",
   "version": "3.8.2"
  }
 },
 "nbformat": 4,
 "nbformat_minor": 4
}
