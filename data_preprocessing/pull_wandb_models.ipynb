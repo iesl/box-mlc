{
 "cells": [
  {
   "cell_type": "code",
   "execution_count": 8,
   "metadata": {},
   "outputs": [
    {
     "name": "stderr",
     "output_type": "stream",
     "text": [
      "\u001b[34m\u001b[1mwandb\u001b[0m: \u001b[33mWARNING\u001b[0m Calling wandb.login() after wandb.init() has no effect.\n"
     ]
    },
    {
     "data": {
      "text/html": [
       "<br/>Waiting for W&B process to finish, PID 2363<br/>Program ended successfully."
      ],
      "text/plain": [
       "<IPython.core.display.HTML object>"
      ]
     },
     "metadata": {},
     "output_type": "display_data"
    },
    {
     "data": {
      "application/vnd.jupyter.widget-view+json": {
       "model_id": "",
       "version_major": 2,
       "version_minor": 0
      },
      "text/plain": [
       "VBox(children=(Label(value=' 0.00MB of 0.00MB uploaded (0.00MB deduped)\\r'), FloatProgress(value=1.0, max=1.0)…"
      ]
     },
     "metadata": {},
     "output_type": "display_data"
    },
    {
     "data": {
      "text/html": [
       "Find user logs for this run at: <code>wandb/run-20201203_213024-2n76kno3/logs/debug.log</code>"
      ],
      "text/plain": [
       "<IPython.core.display.HTML object>"
      ]
     },
     "metadata": {},
     "output_type": "display_data"
    },
    {
     "data": {
      "text/html": [
       "Find internal logs for this run at: <code>wandb/run-20201203_213024-2n76kno3/logs/debug-internal.log</code>"
      ],
      "text/plain": [
       "<IPython.core.display.HTML object>"
      ]
     },
     "metadata": {},
     "output_type": "display_data"
    },
    {
     "data": {
      "text/html": [
       "Synced 5 W&B file(s), 0 media file(s), 0 artifact file(s) and 0 other file(s)"
      ],
      "text/plain": [
       "<IPython.core.display.HTML object>"
      ]
     },
     "metadata": {},
     "output_type": "display_data"
    },
    {
     "data": {
      "text/html": [
       "\n",
       "                    <br/>Synced <strong style=\"color:#cdcd00\">wise-wave-4</strong>: <a href=\"https://wandb.ai/dhruveshpate/multilabel-learning-data_preprocessing/runs/2n76kno3\" target=\"_blank\">https://wandb.ai/dhruveshpate/multilabel-learning-data_preprocessing/runs/2n76kno3</a><br/>\n",
       "                "
      ],
      "text/plain": [
       "<IPython.core.display.HTML object>"
      ]
     },
     "metadata": {},
     "output_type": "display_data"
    },
    {
     "name": "stderr",
     "output_type": "stream",
     "text": [
      "\u001b[34m\u001b[1mwandb\u001b[0m: wandb version 0.10.11 is available!  To upgrade, please run:\n",
      "\u001b[34m\u001b[1mwandb\u001b[0m:  $ pip install wandb --upgrade\n"
     ]
    },
    {
     "data": {
      "text/html": [
       "\n",
       "                Tracking run with wandb version 0.10.5<br/>\n",
       "                Syncing run <strong style=\"color:#cdcd00\">still-shadow-5</strong> to <a href=\"https://wandb.ai\" target=\"_blank\">Weights & Biases</a> <a href=\"https://docs.wandb.com/integrations/jupyter.html\" target=\"_blank\">(Documentation)</a>.<br/>\n",
       "                Project page: <a href=\"https://wandb.ai/dhruveshpate/multilabel-learning-data_preprocessing\" target=\"_blank\">https://wandb.ai/dhruveshpate/multilabel-learning-data_preprocessing</a><br/>\n",
       "                Run page: <a href=\"https://wandb.ai/dhruveshpate/multilabel-learning-data_preprocessing/runs/1krf9uga\" target=\"_blank\">https://wandb.ai/dhruveshpate/multilabel-learning-data_preprocessing/runs/1krf9uga</a><br/>\n",
       "                Run data is saved locally in <code>wandb/run-20201203_213040-1krf9uga</code><br/><br/>\n",
       "            "
      ],
      "text/plain": [
       "<IPython.core.display.HTML object>"
      ]
     },
     "metadata": {},
     "output_type": "display_data"
    },
    {
     "data": {
      "text/html": [
       "<h1>Run(1krf9uga)</h1><p></p><iframe src=\"https://wandb.ai/dhruveshpate/multilabel-learning-data_preprocessing/runs/1krf9uga\" style=\"border:none;width:100%;height:400px\"></iframe>"
      ],
      "text/plain": [
       "<wandb.sdk.wandb_run.Run at 0x7f8489b00400>"
      ]
     },
     "execution_count": 8,
     "metadata": {},
     "output_type": "execute_result"
    }
   ],
   "source": [
    "import wandb\n",
    "wandb.init()"
   ]
  },
  {
   "cell_type": "code",
   "execution_count": 9,
   "metadata": {},
   "outputs": [
    {
     "name": "stdout",
     "output_type": "stream",
     "text": [
      "iesl-boxes/multilabel-learning-toy-1/sofhvcpb\n",
      "iesl-boxes/multilabel-learning-toy-1/zpfnbibm\n",
      "iesl-boxes/multilabel-learning-toy-1/58o44a3q\n",
      "iesl-boxes/multilabel-learning-toy-1/keqg4rgg\n",
      "iesl-boxes/multilabel-learning-toy-1/ks2tuudl\n",
      "iesl-boxes/multilabel-learning-toy-1/5sty13dv\n"
     ]
    }
   ],
   "source": [
    "\n",
    "#toy-data-1 model runs\n",
    "entity='iesl-boxes/multilabel-learning-toy-1/'\n",
    "runs = [\n",
    "    'sofhvcpb', #vector\n",
    "    'zpfnbibm', #vector reg\n",
    "    '58o44a3q', #vrw\n",
    "    'keqg4rgg',#g\n",
    "    'ks2tuudl', #gr\n",
    "    '5sty13dv' #grw\n",
    "]\n",
    "for r in runs:\n",
    "    print(entity+r)"
   ]
  },
  {
   "cell_type": "code",
   "execution_count": null,
   "metadata": {},
   "outputs": [],
   "source": [
    "# no noise\n",
    "runs = [\n",
    "    't2d16448', #vector\n",
    "    '4nvzvp2r', #vector reg\n",
    "    'wmopho4e', #vrw\n",
    "    'pzid6glo',#g\n",
    "    'dt30rdu7', #gr\n",
    "    'kkeyc7gw' #grw\n",
    "]"
   ]
  }
 ],
 "metadata": {
  "kernelspec": {
   "display_name": "Python 3",
   "language": "python",
   "name": "python3"
  },
  "language_info": {
   "codemirror_mode": {
    "name": "ipython",
    "version": 3
   },
   "file_extension": ".py",
   "mimetype": "text/x-python",
   "name": "python",
   "nbconvert_exporter": "python",
   "pygments_lexer": "ipython3",
   "version": "3.8.5"
  }
 },
 "nbformat": 4,
 "nbformat_minor": 4
}
