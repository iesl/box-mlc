{
 "cells": [
  {
   "cell_type": "code",
   "execution_count": 30,
   "metadata": {},
   "outputs": [],
   "source": [
    "from skmultilearn.dataset import load_from_arff,save_to_arff\n",
    "from wcmatch import glob\n",
    "from pathlib import Path\n",
    "import numpy as np\n",
    "from sklearn.preprocessing import MinMaxScaler\n",
    "from scipy.sparse import coo_matrix,dok_matrix,lil_matrix\n",
    "import logging\n",
    "import arff\n",
    "logger = logging.getLogger(__name__)"
   ]
  },
  {
   "cell_type": "code",
   "execution_count": 9,
   "metadata": {},
   "outputs": [],
   "source": [
    "file_path = '../.data/eurlex-ev-stratified10folds-meka/Eurlex-ev-fold@(1|2|3|4|5|6|7|8|9|10).arff'\n",
    "num_labels = 3993"
   ]
  },
  {
   "cell_type": "code",
   "execution_count": 75,
   "metadata": {},
   "outputs": [
    {
     "name": "stdout",
     "output_type": "stream",
     "text": [
      "Reading ../.data/eurlex-ev-stratified10folds-meka/Eurlex-ev-fold6.arff\n",
      "Reading ../.data/eurlex-ev-stratified10folds-meka/Eurlex-ev-fold7.arff\n",
      "Reading ../.data/eurlex-ev-stratified10folds-meka/Eurlex-ev-fold1.arff\n",
      "Reading ../.data/eurlex-ev-stratified10folds-meka/Eurlex-ev-fold10.arff\n",
      "Reading ../.data/eurlex-ev-stratified10folds-meka/Eurlex-ev-fold2.arff\n",
      "Reading ../.data/eurlex-ev-stratified10folds-meka/Eurlex-ev-fold3.arff\n",
      "Reading ../.data/eurlex-ev-stratified10folds-meka/Eurlex-ev-fold4.arff\n",
      "Reading ../.data/eurlex-ev-stratified10folds-meka/Eurlex-ev-fold8.arff\n",
      "Reading ../.data/eurlex-ev-stratified10folds-meka/Eurlex-ev-fold9.arff\n",
      "Reading ../.data/eurlex-ev-stratified10folds-meka/Eurlex-ev-fold5.arff\n"
     ]
    }
   ],
   "source": [
    "lengths = []\n",
    "filepaths = []\n",
    "data = []\n",
    "y_data = []\n",
    "for file_ in glob.glob(file_path, flags=glob.EXTGLOB):\n",
    "    print(f\"Reading {file_}\")\n",
    "    filepaths.append(file_)\n",
    "    x, y, feature_names, label_names = load_from_arff(\n",
    "        file_,\n",
    "        label_count=num_labels,\n",
    "        return_attribute_definitions=True,\n",
    "    )\n",
    "    lengths.append(x.toarray().shape[0])\n",
    "    data += x.toarray().tolist()\n",
    "    y_data+=y.toarray().tolist()\n",
    "    "
   ]
  },
  {
   "cell_type": "code",
   "execution_count": 76,
   "metadata": {},
   "outputs": [],
   "source": [
    "scaler = MinMaxScaler()\n",
    "data_new = scaler.fit_transform(data)"
   ]
  },
  {
   "cell_type": "code",
   "execution_count": 95,
   "metadata": {},
   "outputs": [
    {
     "name": "stdout",
     "output_type": "stream",
     "text": [
      "../.data/eurlex-ev-stratified10folds-meka/Eurlex-ev-fold6.arff\n",
      "../.data/eurlex-ev-stratified10folds-meka/Eurlex-ev-fold7.arff\n",
      "../.data/eurlex-ev-stratified10folds-meka/Eurlex-ev-fold1.arff\n",
      "../.data/eurlex-ev-stratified10folds-meka/Eurlex-ev-fold10.arff\n",
      "../.data/eurlex-ev-stratified10folds-meka/Eurlex-ev-fold2.arff\n",
      "../.data/eurlex-ev-stratified10folds-meka/Eurlex-ev-fold3.arff\n",
      "../.data/eurlex-ev-stratified10folds-meka/Eurlex-ev-fold4.arff\n",
      "../.data/eurlex-ev-stratified10folds-meka/Eurlex-ev-fold8.arff\n",
      "../.data/eurlex-ev-stratified10folds-meka/Eurlex-ev-fold9.arff\n",
      "../.data/eurlex-ev-stratified10folds-meka/Eurlex-ev-fold5.arff\n"
     ]
    }
   ],
   "source": [
    "start=0\n",
    "for idx,file_ in enumerate(filepaths):\n",
    "    print(file_)\n",
    "    new_file_path = file_.split('.arff')[0]+'-normalised.arff'\n",
    "    with open(file_, 'r') as f:\n",
    "        d = arff.load(f)\n",
    "        X = data_new[start:start+lengths[idx]]\n",
    "        y = y_data[start:start+lengths[idx]]\n",
    "        y_prefix = len(X[0])\n",
    "        x_prefix = 0\n",
    "        dn = [{} for r in range(len(X))]\n",
    "#         breakpoint()\n",
    "        for i in range(len(X)):\n",
    "            for j in range(len(X[0])):\n",
    "                try:\n",
    "                    if X[i][j]!=0:\n",
    "                        dn[i][x_prefix + j] = X[i][j]\n",
    "                except:\n",
    "                    print(i,j)\n",
    "#         breakpoint()\n",
    "        for p in range(len(y)):\n",
    "            for q in range(len(y[0])):\n",
    "                if y[p][q]!=0:\n",
    "                    dn[p][y_prefix + q] = y[p][q]\n",
    "        d['data']=dn\n",
    "        start = start+lengths[idx]\n",
    "    with open(new_file_path, 'w') as f:\n",
    "        arff.dump(d, f)\n",
    "    \n",
    "    \n",
    "   "
   ]
  },
  {
   "cell_type": "code",
   "execution_count": 92,
   "metadata": {},
   "outputs": [],
   "source": [
    "x, y, feature_names, label_names = load_from_arff(\n",
    "        filepaths[0],\n",
    "        label_count=num_labels,\n",
    "        return_attribute_definitions=True,\n",
    "    )"
   ]
  },
  {
   "cell_type": "code",
   "execution_count": 94,
   "metadata": {},
   "outputs": [
    {
     "data": {
      "text/plain": [
       "array([[0.101468, 0.415781, 0.094304, ..., 0.      , 0.      , 0.      ]])"
      ]
     },
     "execution_count": 94,
     "metadata": {},
     "output_type": "execute_result"
    }
   ],
   "source": [
    "x[0].toarray()"
   ]
  },
  {
   "cell_type": "code",
   "execution_count": null,
   "metadata": {},
   "outputs": [],
   "source": []
  }
 ],
 "metadata": {
  "kernelspec": {
   "display_name": "Python 3",
   "language": "python",
   "name": "python3"
  },
  "language_info": {
   "codemirror_mode": {
    "name": "ipython",
    "version": 3
   },
   "file_extension": ".py",
   "mimetype": "text/x-python",
   "name": "python",
   "nbconvert_exporter": "python",
   "pygments_lexer": "ipython3",
   "version": "3.8.5"
  }
 },
 "nbformat": 4,
 "nbformat_minor": 4
}
