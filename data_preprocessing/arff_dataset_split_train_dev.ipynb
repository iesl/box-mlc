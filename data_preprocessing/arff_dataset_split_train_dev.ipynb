{
 "cells": [
  {
   "cell_type": "code",
   "execution_count": 1,
   "metadata": {},
   "outputs": [],
   "source": [
    "from typing import List, Dict, Tuple, Any\n",
    "import argparse\n",
    "\n",
    "try:\n",
    "    from .utils import isnotebook\n",
    "except ImportError:\n",
    "    try:\n",
    "        from utils import isnotebook\n",
    "    except:\n",
    "        isnotebook = lambda: True\n",
    "from pathlib import Path\n",
    "import json\n",
    "import sys\n",
    "sys.path.append('../')\n",
    "from skmultilearn.dataset import load_from_arff"
   ]
  },
  {
   "cell_type": "code",
   "execution_count": 6,
   "metadata": {},
   "outputs": [],
   "source": [
    "def get_args() -> argparse.Namespace:\n",
    "    parser = argparse.ArgumentParser(description=\"Read an .arff dataset file\")\n",
    "    parser.add_argument(\"-i\", \"--input-file\", type=Path)\n",
    "    parser.add_argument(\n",
    "        \"-f\",\n",
    "        \"--format\",\n",
    "        default=\"meka\",\n",
    "        choices=[\"meka\", \"mulan\"],\n",
    "        help=\"Format. See http://scikit.ml/datasets.html#ARFF-files\",\n",
    "    )\n",
    "    parser.add_argument(\n",
    "        \"-t\",\n",
    "        \"--train_percent\",\n",
    "        default=70.0,\n",
    "        type=float,\n",
    "        help=\"Percent (t) to keep for train\",\n",
    "    )\n",
    "    parser.add_argument(\n",
    "        \"-o\",\n",
    "        \"--output_dir\",\n",
    "        required=True,\n",
    "        type=Path,\n",
    "    )\n",
    "    parser.add_argument(\n",
    "        \"-p\",\n",
    "        \"--filename_prefix\",\n",
    "        help=\"prefix in prefix_train.arff and prefix_dev.arff\",\n",
    "    )\n",
    "    if isnotebook():\n",
    "        import shlex  # noqa\n",
    "\n",
    "        args_str = (\"-i ../.data/bibtex_meka/all.arff \"\n",
    "                    \"-o ../.data/bibtex_meka\"\n",
    "                   )\n",
    "        args = parser.parse_args(shlex.split(args_str))\n",
    "    else:\n",
    "        args = parser.parse_args()\n",
    "    return args"
   ]
  },
  {
   "cell_type": "code",
   "execution_count": 7,
   "metadata": {},
   "outputs": [],
   "source": [
    "#def main(args: argparse.Namespace)->None:\n",
    "args = get_args()\n",
    "    "
   ]
  },
  {
   "cell_type": "code",
   "execution_count": 8,
   "metadata": {},
   "outputs": [],
   "source": [
    "X, y, feature_names, label_names =load_from_arff(args.input_file, label_count=159, return_attribute_definitions=True)"
   ]
  },
  {
   "cell_type": "code",
   "execution_count": 9,
   "metadata": {},
   "outputs": [
    {
     "data": {
      "text/plain": [
       "<7395x159 sparse matrix of type '<class 'numpy.int64'>'\n",
       "\twith 17762 stored elements in List of Lists format>"
      ]
     },
     "execution_count": 9,
     "metadata": {},
     "output_type": "execute_result"
    }
   ],
   "source": [
    "y"
   ]
  },
  {
   "cell_type": "code",
   "execution_count": 10,
   "metadata": {},
   "outputs": [],
   "source": [
    "from skmultilearn.model_selection import IterativeStratification"
   ]
  },
  {
   "cell_type": "code",
   "execution_count": 11,
   "metadata": {},
   "outputs": [],
   "source": [
    "k_fold = IterativeStratification(n_splits=2, order=1)"
   ]
  },
  {
   "cell_type": "code",
   "execution_count": 12,
   "metadata": {},
   "outputs": [],
   "source": [
    "folds = list(k_fold.split(X, y))"
   ]
  },
  {
   "cell_type": "code",
   "execution_count": 15,
   "metadata": {},
   "outputs": [
    {
     "data": {
      "text/plain": [
       "array([   0,    2,    4, ..., 7389, 7391, 7394])"
      ]
     },
     "execution_count": 15,
     "metadata": {},
     "output_type": "execute_result"
    }
   ],
   "source": [
    "folds[0][1]"
   ]
  },
  {
   "cell_type": "code",
   "execution_count": null,
   "metadata": {},
   "outputs": [],
   "source": [
    "\n",
    "if __name__==\"__main__\":\n",
    "    main()"
   ]
  },
  {
   "cell_type": "code",
   "execution_count": 34,
   "metadata": {},
   "outputs": [],
   "source": [
    "import numpy as np"
   ]
  },
  {
   "cell_type": "code",
   "execution_count": 62,
   "metadata": {},
   "outputs": [],
   "source": [
    "def dataset(\n",
    "    x: np.ndarray,\n",
    "    y: np.ndarray,\n",
    "    feature_names: List[Tuple[str, Any]],\n",
    "    label_names: List[Tuple[str, Any]],\n",
    ") -> List[Dict]:\n",
    "    num_features = len(feature_names)\n",
    "    assert x.shape[-1] == num_features\n",
    "    num_total_labels = len(label_names)\n",
    "    assert y.shape[-1] == num_total_labels\n",
    "    all_labels = np.array([l[0] for l in label_names])\n",
    "    data = [{'x': xi.tolist(), 'y': (all_labels[yi ==1]).tolist()} for xi, yi in zip(x, y)]\n",
    "    return data"
   ]
  },
  {
   "cell_type": "code",
   "execution_count": 66,
   "metadata": {},
   "outputs": [],
   "source": [
    "imdb = dataset(X.toarray(),y.toarray(), feature_names, label_names)"
   ]
  },
  {
   "cell_type": "code",
   "execution_count": 70,
   "metadata": {},
   "outputs": [
    {
     "data": {
      "text/plain": [
       "1001"
      ]
     },
     "execution_count": 70,
     "metadata": {},
     "output_type": "execute_result"
    }
   ],
   "source": [
    "len(imdb[1]['x'])"
   ]
  },
  {
   "cell_type": "code",
   "execution_count": 78,
   "metadata": {},
   "outputs": [],
   "source": [
    "def cardinality(y: List[List])->float:\n",
    "    return np.mean([len(i) for i in y])"
   ]
  },
  {
   "cell_type": "code",
   "execution_count": 79,
   "metadata": {},
   "outputs": [
    {
     "data": {
      "text/plain": [
       "1.999669200043004"
      ]
     },
     "execution_count": 79,
     "metadata": {},
     "output_type": "execute_result"
    }
   ],
   "source": [
    "cardinality([i['y'] for i in imdb ])"
   ]
  },
  {
   "cell_type": "code",
   "execution_count": 102,
   "metadata": {},
   "outputs": [],
   "source": [
    "def diversity(y: List[List]) -> float:\n",
    "    vocab = set([v for l in y for v in l])\n",
    "    l2i = {label: i for i, label in enumerate(vocab)}\n",
    "    i2l = {i: label for label, i in l2i.items()}\n",
    "    label_sets_present = set()\n",
    "    for yi in y:\n",
    "        yi_onehot = [0]*len(vocab)\n",
    "        for label in yi:\n",
    "            yi_onehot[l2i[label]]=1\n",
    "        label_sets_present.add(tuple(yi_onehot))\n",
    "    return len(label_sets_present)/np.power(2, len(vocab))\n",
    "    "
   ]
  },
  {
   "cell_type": "code",
   "execution_count": 103,
   "metadata": {},
   "outputs": [
    {
     "data": {
      "text/plain": [
       "1.6774982213974e-05"
      ]
     },
     "execution_count": 103,
     "metadata": {},
     "output_type": "execute_result"
    }
   ],
   "source": [
    "diversity([i['y'] for i in imdb])"
   ]
  },
  {
   "cell_type": "code",
   "execution_count": null,
   "metadata": {},
   "outputs": [],
   "source": [
    "from allennlp.data"
   ]
  }
 ],
 "metadata": {
  "kernelspec": {
   "display_name": "Python 3",
   "language": "python",
   "name": "python3"
  },
  "language_info": {
   "codemirror_mode": {
    "name": "ipython",
    "version": 3
   },
   "file_extension": ".py",
   "mimetype": "text/x-python",
   "name": "python",
   "nbconvert_exporter": "python",
   "pygments_lexer": "ipython3",
   "version": "3.8.6"
  }
 },
 "nbformat": 4,
 "nbformat_minor": 4
}
