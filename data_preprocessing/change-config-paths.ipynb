{
 "cells": [
  {
   "cell_type": "code",
   "execution_count": 1,
   "metadata": {},
   "outputs": [],
   "source": [
    "import json\n",
    "from pathlib import Path\n",
    "import re\n",
    "import os"
   ]
  },
  {
   "cell_type": "code",
   "execution_count": 2,
   "metadata": {},
   "outputs": [],
   "source": [
    "entries = os.listdir('../best-model-configurations')"
   ]
  },
  {
   "cell_type": "code",
   "execution_count": 3,
   "metadata": {},
   "outputs": [
    {
     "data": {
      "text/plain": [
       "['blurb-gumbel-hr.json',\n",
       " 'toy-vector-hr-warmup.json',\n",
       " 'typenet-gumbel-hr.json',\n",
       " 'typenet-gumber-hr-warmup.json',\n",
       " 'typenet-gumbel.json',\n",
       " 'toy-no-noise-hr-warmup.json',\n",
       " 'toy-no-noise-gumbel-hr-warmup.json',\n",
       " 'toy-vector-hr.json',\n",
       " 'toy-no-noise-gumbel-hr.json',\n",
       " 'typenet-vector-hr-warmup.json',\n",
       " 'typenet-vector.json',\n",
       " 'blurb-vector-hr-warmup.json',\n",
       " 'typenet-vector-hr.json',\n",
       " 'blurb-vector.json',\n",
       " 'toy-vector.json',\n",
       " 'typenet-softbox.json',\n",
       " 'toy-no-noise-gumbel.json',\n",
       " 'blurb-gumbel-hr-warmup.json',\n",
       " 'blurb-vector-hr.json',\n",
       " 'toy-gumbel-hr-warmup.json',\n",
       " 'blurb-gumbel.json',\n",
       " 'toy-gumbel.json',\n",
       " 'toy-no-noise-vector.json',\n",
       " 'toy-gumbel-hr.json',\n",
       " 'blurb-softbox.json',\n",
       " 'toy-no-noise-vector-hr.json']"
      ]
     },
     "execution_count": 3,
     "metadata": {},
     "output_type": "execute_result"
    }
   ],
   "source": [
    "entries"
   ]
  },
  {
   "cell_type": "code",
   "execution_count": 4,
   "metadata": {},
   "outputs": [],
   "source": [
    "def replace_filepath(dic, searchstr, replacestr):\n",
    "    new_dic = {}\n",
    "    for k, v in dic.items():\n",
    "        if isinstance(v, str):\n",
    "#             new_dic[k] = re.sub(r'(.*)/\\.data/(.*)', r'../.data/\\2', v)\n",
    "            new_dic[k] = re.sub(searchstr, replacestr, v)\n",
    "        elif isinstance(v, dict):\n",
    "            new_dic[k] = replace_filepath(v.copy(), searchstr, replacestr)\n",
    "        else:\n",
    "            new_dic[k] = v\n",
    "    return new_dic"
   ]
  },
  {
   "cell_type": "code",
   "execution_count": 8,
   "metadata": {},
   "outputs": [],
   "source": [
    "for entry in entries:\n",
    "    data = None\n",
    "    with open(f'../best-model-configurations/{entry}', 'r') as f:\n",
    "        data = json.load(f)\n",
    "    data_new = replace_filepath(data, r'../\\.data/(.*)', r'.data/\\1')\n",
    "    data_new['trainer']['epoch_callbacks'] = [{'type': 'track_epoch_callback'}]\n",
    "    with open(f'../best-model-configurations/{entry}', 'w') as f:\n",
    "        json.dump(data_new, f)\n",
    "    \n",
    "\n",
    "            "
   ]
  },
  {
   "cell_type": "code",
   "execution_count": 8,
   "metadata": {},
   "outputs": [
    {
     "name": "stdout",
     "output_type": "stream",
     "text": [
      "blurb-gumbel-hr.json\n"
     ]
    },
    {
     "ename": "KeyError",
     "evalue": "'epoch_callbacks'",
     "output_type": "error",
     "traceback": [
      "\u001b[0;31m---------------------------------------------------------------------------\u001b[0m",
      "\u001b[0;31mKeyError\u001b[0m                                  Traceback (most recent call last)",
      "\u001b[0;32m<ipython-input-8-b9615849432f>\u001b[0m in \u001b[0;36m<module>\u001b[0;34m\u001b[0m\n\u001b[1;32m      5\u001b[0m         \u001b[0mdata\u001b[0m \u001b[0;34m=\u001b[0m \u001b[0mjson\u001b[0m\u001b[0;34m.\u001b[0m\u001b[0mload\u001b[0m\u001b[0;34m(\u001b[0m\u001b[0mf\u001b[0m\u001b[0;34m)\u001b[0m\u001b[0;34m\u001b[0m\u001b[0;34m\u001b[0m\u001b[0m\n\u001b[1;32m      6\u001b[0m     \u001b[0mdata\u001b[0m\u001b[0;34m[\u001b[0m\u001b[0;34m'trainer'\u001b[0m\u001b[0;34m]\u001b[0m\u001b[0;34m[\u001b[0m\u001b[0;34m'epoch_callbacks'\u001b[0m\u001b[0;34m]\u001b[0m \u001b[0;34m=\u001b[0m \u001b[0;34m{\u001b[0m\u001b[0;34m'type'\u001b[0m\u001b[0;34m:\u001b[0m \u001b[0;34m'track_epoch_callback'\u001b[0m\u001b[0;34m}\u001b[0m\u001b[0;34m\u001b[0m\u001b[0;34m\u001b[0m\u001b[0m\n\u001b[0;32m----> 7\u001b[0;31m     \u001b[0;32mdel\u001b[0m \u001b[0mdata\u001b[0m\u001b[0;34m[\u001b[0m\u001b[0;34m'epoch_callbacks'\u001b[0m\u001b[0;34m]\u001b[0m\u001b[0;34m\u001b[0m\u001b[0;34m\u001b[0m\u001b[0m\n\u001b[0m\u001b[1;32m      8\u001b[0m     \u001b[0;32mwith\u001b[0m \u001b[0mopen\u001b[0m\u001b[0;34m(\u001b[0m\u001b[0;34mf'../best-model-configurations/{entry}'\u001b[0m\u001b[0;34m,\u001b[0m \u001b[0;34m'w'\u001b[0m\u001b[0;34m)\u001b[0m \u001b[0;32mas\u001b[0m \u001b[0mf\u001b[0m\u001b[0;34m:\u001b[0m\u001b[0;34m\u001b[0m\u001b[0;34m\u001b[0m\u001b[0m\n\u001b[1;32m      9\u001b[0m         \u001b[0mjson\u001b[0m\u001b[0;34m.\u001b[0m\u001b[0mdump\u001b[0m\u001b[0;34m(\u001b[0m\u001b[0mdata\u001b[0m\u001b[0;34m,\u001b[0m \u001b[0mf\u001b[0m\u001b[0;34m)\u001b[0m\u001b[0;34m\u001b[0m\u001b[0;34m\u001b[0m\u001b[0m\n",
      "\u001b[0;31mKeyError\u001b[0m: 'epoch_callbacks'"
     ]
    }
   ],
   "source": [
    "for entry in entries:\n",
    "    print(entry)\n",
    "    data = None\n",
    "    with open(f'../best-model-configurations/{entry}', 'r') as f:\n",
    "        data = json.load(f)\n",
    "    data['trainer']['epoch_callbacks'] = [{'type': 'track_epoch_callback'}]\n",
    "#     try:\n",
    "#         del data['epoch_callbacks']\n",
    "#     except KeyError as e:\n",
    "#         print(entry)\n",
    "    with open(f'../best-model-configurations/{entry}', 'w') as f:\n",
    "        json.dump(data, f)\n",
    "    \n",
    "\n",
    "            "
   ]
  },
  {
   "cell_type": "code",
   "execution_count": 20,
   "metadata": {},
   "outputs": [
    {
     "data": {
      "text/plain": [
       "{'dataset_reader': {'type': 'blurb-genre-classification',\n",
       "  'token_indexers': {'tokens': {'type': 'single_id',\n",
       "    'token_min_padding_length': 5}},\n",
       "  'tokenizer': {'type': 'spacy'}},\n",
       " 'model': {'type': 'multi-instance-typing-avg-vec-box-model',\n",
       "  'concat_mention': True,\n",
       "  'debug_level': 0,\n",
       "  'dropout': 0.2,\n",
       "  'encoder_stack': {'debug_level': 0,\n",
       "   'mention_seq2vec_encoder': {'type': 'bag_of_embeddings',\n",
       "    'averaged': True,\n",
       "    'embedding_dim': 300},\n",
       "   'seq2vec_encoder': {'type': 'cnn',\n",
       "    'conv_layer_activation': 'tanh',\n",
       "    'embedding_dim': 300,\n",
       "    'ngram_filter_sizes': [5],\n",
       "    'num_filters': 300},\n",
       "   'textfield_embedder': {'token_embedders': {'tokens': {'type': 'embedding',\n",
       "      'embedding_dim': 300,\n",
       "      'pretrained_file': 'https://allennlp.s3.amazonaws.com/datasets/glove/glove.840B.300d.txt.gz',\n",
       "      'trainable': True}}}},\n",
       "  'feedforward': {'activations': ['sigmoid', 'linear'],\n",
       "   'dropout': [0, 0],\n",
       "   'hidden_dims': [600, 300],\n",
       "   'input_dim': 600,\n",
       "   'num_layers': 2},\n",
       "  'initializer': {'regexes': [['.*linear_layers.*weight',\n",
       "     {'type': 'xavier_uniform'}],\n",
       "    ['.*linear_layers.*bias', {'type': 'zero'}]]},\n",
       "  'intersect': {'type': 'gumbel',\n",
       "   'approximation_mode': 'clipping',\n",
       "   'beta': 0.04058409820527878},\n",
       "  'label_embeddings': {'type': 'box_embedding',\n",
       "   'box_factory': {'type': 'box_factory',\n",
       "    'kwargs_dict': {'beta': 10},\n",
       "    'name': 'mindelta_from_vector'},\n",
       "   'box_initializer': {'type': 'uniform-box-initializer',\n",
       "    'box_type_factory': {'type': 'box_factory',\n",
       "     'kwargs_dict': {'beta': 10},\n",
       "     'name': 'mindelta_from_vector'},\n",
       "    'delta_max': 0.7,\n",
       "    'delta_min': 0.5,\n",
       "    'dimensions': 150,\n",
       "    'maximum': 1,\n",
       "    'minimum': -1,\n",
       "    'vocab_namespace': 'labels'},\n",
       "   'embedding_dim': 150,\n",
       "   'vocab_namespace': 'labels'},\n",
       "  'label_regularizer': {'type': 'normalized-input',\n",
       "   'alpha': 3.306260297448025e-05,\n",
       "   'edgelist_delimiter': '|',\n",
       "   'edgelist_filename': '/mnt/nfs/scratch1/dhruveshpate/multilabel_classification/multilabel-learning/.data/blurb_genre_collection/hierarchy.edgelist'},\n",
       "  'pooler': {'type': 'bag-of-boxes-pooler', 'dim': -2},\n",
       "  'vec2box': {'type': 'vec2box',\n",
       "   'box_factory': {'type': 'box_factory',\n",
       "    'kwargs_dict': {'beta': 10},\n",
       "    'name': 'mindelta_from_vector'}},\n",
       "  'volume': {'type': 'bessel-approx',\n",
       "   'beta': 15,\n",
       "   'gumbel_beta': 0.04058409820527878,\n",
       "   'log_scale': True},\n",
       "  'warmup_epochs': 1},\n",
       " 'train_data_path': '\\\\.\\\\./\\\\.data/blurb_genre_collection/train.json',\n",
       " 'validation_data_path': '\\\\.\\\\./\\\\.data/blurb_genre_collection/dev.json',\n",
       " 'test_data_path': '\\\\.\\\\./\\\\.data/blurb_genre_collection/test.json',\n",
       " 'trainer': {'checkpointer': {'num_serialized_models_to_keep': 1},\n",
       "  'cuda_device': 0,\n",
       "  'epoch_callbacks': ['track_epoch_callback', 'log_metrics_to_wandb'],\n",
       "  'grad_norm': 5,\n",
       "  'learning_rate_scheduler': {'type': 'reduce_on_plateau',\n",
       "   'factor': 0.5,\n",
       "   'mode': 'max',\n",
       "   'patience': 0,\n",
       "   'verbose': True},\n",
       "  'num_epochs': 40,\n",
       "  'optimizer': {'type': 'adam', 'lr': 0.00023051737235368913},\n",
       "  'patience': 3,\n",
       "  'tensorboard_writer': {'should_log_learning_rate': True},\n",
       "  'validation_metric': '+MAP'},\n",
       " 'data_loader': {'batch_sampler': {'type': 'bucket', 'batch_size': 16},\n",
       "  'pin_memory': False}}"
      ]
     },
     "execution_count": 20,
     "metadata": {},
     "output_type": "execute_result"
    }
   ],
   "source": [
    "data\n"
   ]
  }
 ],
 "metadata": {
  "kernelspec": {
   "display_name": "Python 3",
   "language": "python",
   "name": "python3"
  },
  "language_info": {
   "codemirror_mode": {
    "name": "ipython",
    "version": 3
   },
   "file_extension": ".py",
   "mimetype": "text/x-python",
   "name": "python",
   "nbconvert_exporter": "python",
   "pygments_lexer": "ipython3",
   "version": "3.8.5"
  }
 },
 "nbformat": 4,
 "nbformat_minor": 4
}
